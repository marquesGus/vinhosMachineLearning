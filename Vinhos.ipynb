{
  "nbformat": 4,
  "nbformat_minor": 0,
  "metadata": {
    "colab": {
      "name": "Vinhos.ipynb",
      "provenance": [],
      "collapsed_sections": [],
      "authorship_tag": "ABX9TyNhBzybNP6Ag0eLwvw6fuOb",
      "include_colab_link": true
    },
    "kernelspec": {
      "name": "python3",
      "display_name": "Python 3"
    },
    "language_info": {
      "name": "python"
    }
  },
  "cells": [
    {
      "cell_type": "markdown",
      "metadata": {
        "id": "view-in-github",
        "colab_type": "text"
      },
      "source": [
        "<a href=\"https://colab.research.google.com/github/marquesGus/vinhosMachineLearning/blob/main/Vinhos.ipynb\" target=\"_parent\"><img src=\"https://colab.research.google.com/assets/colab-badge.svg\" alt=\"Open In Colab\"/></a>"
      ]
    },
    {
      "cell_type": "markdown",
      "metadata": {
        "id": "7MjQ7drgwAcU"
      },
      "source": [
        "Boa noite professor, nosso humilde projeto consiste em dizer o tipo de vinho com base em algumas informações descritivas:\n",
        "\n",
        "*   Acidez\n",
        "*   Acido Citrico\n",
        "*   Densidade\n",
        "*   Ph\n",
        "*   Alcool\n",
        "\n",
        "Entre outros...\n",
        "\n",
        "Nosso sistema ira nos dizer se o vinho é um **VINHO TINTO** ou **VINHO BRANCO**\n",
        "\n",
        "Os integrantes do grupo são: \n",
        "\n",
        "*   GUSTAVO ROGERIO SILVA MARQUES - **RA**: 3018102371\n",
        "*   GISELE LEMES PALMIRO - **RA**: 3019202857\n",
        "*   MARCOS VINICIUS FRANÇA - **RA**: 3018104667\n",
        "*   VALDEMAR DOS SANTOS PEREIRA NETO - **RA**: 3018100730\n",
        "\n",
        "\n",
        "\n",
        "\n",
        "\n"
      ]
    },
    {
      "cell_type": "code",
      "metadata": {
        "id": "lTH-9C7xvPmh"
      },
      "source": [
        "import pandas as pd\n",
        "import numpy as np\n",
        "import matplotlib.pyplot as plt"
      ],
      "execution_count": null,
      "outputs": []
    },
    {
      "cell_type": "markdown",
      "metadata": {
        "id": "ibY433Vx4phq"
      },
      "source": [
        "# Leitura de dados com pandas"
      ]
    },
    {
      "cell_type": "code",
      "metadata": {
        "id": "8SzcYmIcwJ-T"
      },
      "source": [
        "urlDataFrame = 'https://raw.githubusercontent.com/marquesGus/vinhosMachineLearning/main/wine_dataset.csv'\n",
        "vinhos = pd.read_csv(urlDataFrame)\n"
      ],
      "execution_count": null,
      "outputs": []
    },
    {
      "cell_type": "code",
      "metadata": {
        "id": "0WBEZE4kwS-2",
        "colab": {
          "base_uri": "https://localhost:8080/",
          "height": 206
        },
        "outputId": "671f369c-9149-4b52-ed8f-9f99d44ae1e7"
      },
      "source": [
        "vinhos.head()"
      ],
      "execution_count": null,
      "outputs": [
        {
          "output_type": "execute_result",
          "data": {
            "text/html": [
              "<div>\n",
              "<style scoped>\n",
              "    .dataframe tbody tr th:only-of-type {\n",
              "        vertical-align: middle;\n",
              "    }\n",
              "\n",
              "    .dataframe tbody tr th {\n",
              "        vertical-align: top;\n",
              "    }\n",
              "\n",
              "    .dataframe thead th {\n",
              "        text-align: right;\n",
              "    }\n",
              "</style>\n",
              "<table border=\"1\" class=\"dataframe\">\n",
              "  <thead>\n",
              "    <tr style=\"text-align: right;\">\n",
              "      <th></th>\n",
              "      <th>fixed_acidity</th>\n",
              "      <th>volatile_acidity</th>\n",
              "      <th>citric_acid</th>\n",
              "      <th>residual_sugar</th>\n",
              "      <th>chlorides</th>\n",
              "      <th>free_sulfur_dioxide</th>\n",
              "      <th>total_sulfur_dioxide</th>\n",
              "      <th>density</th>\n",
              "      <th>pH</th>\n",
              "      <th>sulphates</th>\n",
              "      <th>alcohol</th>\n",
              "      <th>quality</th>\n",
              "      <th>style</th>\n",
              "    </tr>\n",
              "  </thead>\n",
              "  <tbody>\n",
              "    <tr>\n",
              "      <th>0</th>\n",
              "      <td>7.4</td>\n",
              "      <td>0.70</td>\n",
              "      <td>0.00</td>\n",
              "      <td>1.9</td>\n",
              "      <td>0.076</td>\n",
              "      <td>11.0</td>\n",
              "      <td>34.0</td>\n",
              "      <td>0.9978</td>\n",
              "      <td>3.51</td>\n",
              "      <td>0.56</td>\n",
              "      <td>9.4</td>\n",
              "      <td>5</td>\n",
              "      <td>red</td>\n",
              "    </tr>\n",
              "    <tr>\n",
              "      <th>1</th>\n",
              "      <td>7.8</td>\n",
              "      <td>0.88</td>\n",
              "      <td>0.00</td>\n",
              "      <td>2.6</td>\n",
              "      <td>0.098</td>\n",
              "      <td>25.0</td>\n",
              "      <td>67.0</td>\n",
              "      <td>0.9968</td>\n",
              "      <td>3.20</td>\n",
              "      <td>0.68</td>\n",
              "      <td>9.8</td>\n",
              "      <td>5</td>\n",
              "      <td>red</td>\n",
              "    </tr>\n",
              "    <tr>\n",
              "      <th>2</th>\n",
              "      <td>7.8</td>\n",
              "      <td>0.76</td>\n",
              "      <td>0.04</td>\n",
              "      <td>2.3</td>\n",
              "      <td>0.092</td>\n",
              "      <td>15.0</td>\n",
              "      <td>54.0</td>\n",
              "      <td>0.9970</td>\n",
              "      <td>3.26</td>\n",
              "      <td>0.65</td>\n",
              "      <td>9.8</td>\n",
              "      <td>5</td>\n",
              "      <td>red</td>\n",
              "    </tr>\n",
              "    <tr>\n",
              "      <th>3</th>\n",
              "      <td>11.2</td>\n",
              "      <td>0.28</td>\n",
              "      <td>0.56</td>\n",
              "      <td>1.9</td>\n",
              "      <td>0.075</td>\n",
              "      <td>17.0</td>\n",
              "      <td>60.0</td>\n",
              "      <td>0.9980</td>\n",
              "      <td>3.16</td>\n",
              "      <td>0.58</td>\n",
              "      <td>9.8</td>\n",
              "      <td>6</td>\n",
              "      <td>red</td>\n",
              "    </tr>\n",
              "    <tr>\n",
              "      <th>4</th>\n",
              "      <td>7.4</td>\n",
              "      <td>0.70</td>\n",
              "      <td>0.00</td>\n",
              "      <td>1.9</td>\n",
              "      <td>0.076</td>\n",
              "      <td>11.0</td>\n",
              "      <td>34.0</td>\n",
              "      <td>0.9978</td>\n",
              "      <td>3.51</td>\n",
              "      <td>0.56</td>\n",
              "      <td>9.4</td>\n",
              "      <td>5</td>\n",
              "      <td>red</td>\n",
              "    </tr>\n",
              "  </tbody>\n",
              "</table>\n",
              "</div>"
            ],
            "text/plain": [
              "   fixed_acidity  volatile_acidity  citric_acid  ...  alcohol  quality  style\n",
              "0            7.4              0.70         0.00  ...      9.4        5    red\n",
              "1            7.8              0.88         0.00  ...      9.8        5    red\n",
              "2            7.8              0.76         0.04  ...      9.8        5    red\n",
              "3           11.2              0.28         0.56  ...      9.8        6    red\n",
              "4            7.4              0.70         0.00  ...      9.4        5    red\n",
              "\n",
              "[5 rows x 13 columns]"
            ]
          },
          "metadata": {
            "tags": []
          },
          "execution_count": 21
        }
      ]
    },
    {
      "cell_type": "markdown",
      "metadata": {
        "id": "v-D82miEBJis"
      },
      "source": [
        "# Figuras que mostrem insights sobre os dados com pandas e matplotlib"
      ]
    },
    {
      "cell_type": "markdown",
      "metadata": {
        "id": "rgbd9m70oQNg"
      },
      "source": [
        "Aqui vemos o valor **médio**, **maximo** e **minimo** da porcentagem de alcool no nosso dateset de vinhos."
      ]
    },
    {
      "cell_type": "code",
      "metadata": {
        "id": "Uxx2wqi_BUuu",
        "colab": {
          "base_uri": "https://localhost:8080/",
          "height": 283
        },
        "outputId": "41a4c077-51d7-4ad4-8590-ec7c0d05de1a"
      },
      "source": [
        "vinhos.boxplot(column='alcohol')"
      ],
      "execution_count": null,
      "outputs": [
        {
          "output_type": "execute_result",
          "data": {
            "text/plain": [
              "<matplotlib.axes._subplots.AxesSubplot at 0x7f43085e9c90>"
            ]
          },
          "metadata": {
            "tags": []
          },
          "execution_count": 35
        },
        {
          "output_type": "display_data",
          "data": {
            "image/png": "[encoded data removed]",
            "text/plain": [
              "<Figure size 432x288 with 1 Axes>"
            ]
          },
          "metadata": {
            "tags": []
          }
        }
      ]
    },
    {
      "cell_type": "markdown",
      "metadata": {
        "id": "2L-QL0iWolO7"
      },
      "source": [
        "Aqui, vemos as mesmas informacoes mas agora sobre a qualidade dos vinhos, separados pelo tipo"
      ]
    },
    {
      "cell_type": "code",
      "metadata": {
        "colab": {
          "base_uri": "https://localhost:8080/",
          "height": 379
        },
        "id": "0lreHlIRn0aP",
        "outputId": "c62c02a7-df8a-4351-88c8-10ab03540b39"
      },
      "source": [
        "vinhos.boxplot(column='quality', by='style')"
      ],
      "execution_count": null,
      "outputs": [
        {
          "output_type": "stream",
          "text": [
            "/usr/local/lib/python3.7/dist-packages/numpy/core/_asarray.py:83: VisibleDeprecationWarning: Creating an ndarray from ragged nested sequences (which is a list-or-tuple of lists-or-tuples-or ndarrays with different lengths or shapes) is deprecated. If you meant to do this, you must specify 'dtype=object' when creating the ndarray\n",
            "  return array(a, dtype, copy=False, order=order)\n"
          ],
          "name": "stderr"
        },
        {
          "output_type": "execute_result",
          "data": {
            "text/plain": [
              "<matplotlib.axes._subplots.AxesSubplot at 0x7f43086f7350>"
            ]
          },
          "metadata": {
            "tags": []
          },
          "execution_count": 23
        },
        {
          "output_type": "display_data",
          "data": {
            "image/png": "[encoded data removed]",
            "text/plain": [
              "<Figure size 432x288 with 1 Axes>"
            ]
          },
          "metadata": {
            "tags": []
          }
        }
      ]
    },
    {
      "cell_type": "markdown",
      "metadata": {
        "id": "3BPj2bW64vtC"
      },
      "source": [
        "# Manipulação e limpeza de dados com pandas"
      ]
    },
    {
      "cell_type": "code",
      "metadata": {
        "id": "G8PmgiU57VoP"
      },
      "source": [
        "vinhos = vinhos.sort_values(by=['quality'])"
      ],
      "execution_count": null,
      "outputs": []
    },
    {
      "cell_type": "markdown",
      "metadata": {
        "id": "4OlgQsuPwbdM"
      },
      "source": [
        "Para um melhor desenvolvimento, os dados da coluna **\"STYLE\"** transformarei os dados sendo o vinho tinto(**red**) = 0 e branco(**white**) = 1"
      ]
    },
    {
      "cell_type": "code",
      "metadata": {
        "id": "7yrEJc3Lw5mL"
      },
      "source": [
        "vinhos['style'] = vinhos['style'].replace('red',0)"
      ],
      "execution_count": null,
      "outputs": []
    },
    {
      "cell_type": "code",
      "metadata": {
        "id": "tchhnKTnxCMX"
      },
      "source": [
        "vinhos['style'] = vinhos['style'].replace('white',1)"
      ],
      "execution_count": null,
      "outputs": []
    },
    {
      "cell_type": "code",
      "metadata": {
        "id": "C6ez-n3_xKWx"
      },
      "source": [
        "y = vinhos['style']\n",
        "x = vinhos.drop('style', axis = 1)"
      ],
      "execution_count": null,
      "outputs": []
    },
    {
      "cell_type": "markdown",
      "metadata": {
        "id": "Uq6YQHR_423D"
      },
      "source": [
        "# Quebrar os dados em conjunto de treino e conjunto de teste"
      ]
    },
    {
      "cell_type": "code",
      "metadata": {
        "id": "YFukZye0xjvV"
      },
      "source": [
        "from sklearn.model_selection import train_test_split\n",
        "\n",
        "x_treino, x_teste, y_treino, y_teste = train_test_split(x,y, test_size = 0.33, random_state=42)"
      ],
      "execution_count": null,
      "outputs": []
    },
    {
      "cell_type": "markdown",
      "metadata": {
        "id": "qHpAfkzr4-4b"
      },
      "source": [
        "# Treinar um estimador do scikit-learn de aprendizagem supervisionada (regressor ou classificador) no conjunto de treino"
      ]
    },
    {
      "cell_type": "code",
      "metadata": {
        "id": "Z2EXFDd2yrOj",
        "colab": {
          "base_uri": "https://localhost:8080/"
        },
        "outputId": "acce7241-9f80-4baf-ad82-5a1101912a73"
      },
      "source": [
        "from sklearn.ensemble import ExtraTreesClassifier\n",
        "\n",
        "modelo = ExtraTreesClassifier()\n",
        "modelo.fit(x_treino, y_treino)\n"
      ],
      "execution_count": null,
      "outputs": [
        {
          "output_type": "execute_result",
          "data": {
            "text/plain": [
              "ExtraTreesClassifier(bootstrap=False, ccp_alpha=0.0, class_weight=None,\n",
              "                     criterion='gini', max_depth=None, max_features='auto',\n",
              "                     max_leaf_nodes=None, max_samples=None,\n",
              "                     min_impurity_decrease=0.0, min_impurity_split=None,\n",
              "                     min_samples_leaf=1, min_samples_split=2,\n",
              "                     min_weight_fraction_leaf=0.0, n_estimators=100,\n",
              "                     n_jobs=None, oob_score=False, random_state=None, verbose=0,\n",
              "                     warm_start=False)"
            ]
          },
          "metadata": {
            "tags": []
          },
          "execution_count": 29
        }
      ]
    },
    {
      "cell_type": "markdown",
      "metadata": {
        "id": "TUkPztII5FtT"
      },
      "source": [
        "# Verificar o desempenho do estimador do scikit-learn no conjunto de teste"
      ]
    },
    {
      "cell_type": "code",
      "metadata": {
        "id": "O5Td-5o_5KD7",
        "colab": {
          "base_uri": "https://localhost:8080/"
        },
        "outputId": "fbc1898d-e55a-43fb-d747-7dfdeec3207b"
      },
      "source": [
        "resultado = modelo.score(x_teste, y_teste)\n",
        "print(\"Score:\", resultado)"
      ],
      "execution_count": null,
      "outputs": [
        {
          "output_type": "stream",
          "text": [
            "Score: 0.9972027972027973\n"
          ],
          "name": "stdout"
        }
      ]
    },
    {
      "cell_type": "markdown",
      "metadata": {
        "id": "ApsAkHQeqDQA"
      },
      "source": [
        "**Esses sao os conjuntos que iremos tentar prever....**"
      ]
    },
    {
      "cell_type": "markdown",
      "metadata": {
        "id": "D253f2QsqLJT"
      },
      "source": [
        "Os respectivos tipos de vinhos são:\n"
      ]
    },
    {
      "cell_type": "code",
      "metadata": {
        "id": "SHmGorlxzzpk",
        "colab": {
          "base_uri": "https://localhost:8080/"
        },
        "outputId": "62ffb028-1fcc-4821-92c5-dc7a33a5c364"
      },
      "source": [
        "y_teste[200:203]"
      ],
      "execution_count": null,
      "outputs": [
        {
          "output_type": "execute_result",
          "data": {
            "text/plain": [
              "413     0\n",
              "6424    1\n",
              "6299    1\n",
              "Name: style, dtype: int64"
            ]
          },
          "metadata": {
            "tags": []
          },
          "execution_count": 31
        }
      ]
    },
    {
      "cell_type": "markdown",
      "metadata": {
        "id": "Ywrc2djGqQCD"
      },
      "source": [
        "Seus dados:"
      ]
    },
    {
      "cell_type": "code",
      "metadata": {
        "id": "qPTxOEhp1Ci7",
        "colab": {
          "base_uri": "https://localhost:8080/",
          "height": 143
        },
        "outputId": "f5f2ac83-cc6d-459f-83e7-add5883e2e2c"
      },
      "source": [
        "x_teste[200:203]"
      ],
      "execution_count": null,
      "outputs": [
        {
          "output_type": "execute_result",
          "data": {
            "text/html": [
              "<div>\n",
              "<style scoped>\n",
              "    .dataframe tbody tr th:only-of-type {\n",
              "        vertical-align: middle;\n",
              "    }\n",
              "\n",
              "    .dataframe tbody tr th {\n",
              "        vertical-align: top;\n",
              "    }\n",
              "\n",
              "    .dataframe thead th {\n",
              "        text-align: right;\n",
              "    }\n",
              "</style>\n",
              "<table border=\"1\" class=\"dataframe\">\n",
              "  <thead>\n",
              "    <tr style=\"text-align: right;\">\n",
              "      <th></th>\n",
              "      <th>fixed_acidity</th>\n",
              "      <th>volatile_acidity</th>\n",
              "      <th>citric_acid</th>\n",
              "      <th>residual_sugar</th>\n",
              "      <th>chlorides</th>\n",
              "      <th>free_sulfur_dioxide</th>\n",
              "      <th>total_sulfur_dioxide</th>\n",
              "      <th>density</th>\n",
              "      <th>pH</th>\n",
              "      <th>sulphates</th>\n",
              "      <th>alcohol</th>\n",
              "      <th>quality</th>\n",
              "    </tr>\n",
              "  </thead>\n",
              "  <tbody>\n",
              "    <tr>\n",
              "      <th>413</th>\n",
              "      <td>9.9</td>\n",
              "      <td>0.40</td>\n",
              "      <td>0.53</td>\n",
              "      <td>6.7</td>\n",
              "      <td>0.097</td>\n",
              "      <td>6.0</td>\n",
              "      <td>19.0</td>\n",
              "      <td>0.99860</td>\n",
              "      <td>3.27</td>\n",
              "      <td>0.82</td>\n",
              "      <td>11.7</td>\n",
              "      <td>7</td>\n",
              "    </tr>\n",
              "    <tr>\n",
              "      <th>6424</th>\n",
              "      <td>6.0</td>\n",
              "      <td>0.34</td>\n",
              "      <td>0.29</td>\n",
              "      <td>6.1</td>\n",
              "      <td>0.046</td>\n",
              "      <td>29.0</td>\n",
              "      <td>134.0</td>\n",
              "      <td>0.99462</td>\n",
              "      <td>3.48</td>\n",
              "      <td>0.57</td>\n",
              "      <td>10.7</td>\n",
              "      <td>6</td>\n",
              "    </tr>\n",
              "    <tr>\n",
              "      <th>6299</th>\n",
              "      <td>6.8</td>\n",
              "      <td>0.30</td>\n",
              "      <td>0.33</td>\n",
              "      <td>12.8</td>\n",
              "      <td>0.041</td>\n",
              "      <td>60.0</td>\n",
              "      <td>168.0</td>\n",
              "      <td>0.99659</td>\n",
              "      <td>3.10</td>\n",
              "      <td>0.56</td>\n",
              "      <td>9.8</td>\n",
              "      <td>5</td>\n",
              "    </tr>\n",
              "  </tbody>\n",
              "</table>\n",
              "</div>"
            ],
            "text/plain": [
              "      fixed_acidity  volatile_acidity  citric_acid  ...  sulphates  alcohol  quality\n",
              "413             9.9              0.40         0.53  ...       0.82     11.7        7\n",
              "6424            6.0              0.34         0.29  ...       0.57     10.7        6\n",
              "6299            6.8              0.30         0.33  ...       0.56      9.8        5\n",
              "\n",
              "[3 rows x 12 columns]"
            ]
          },
          "metadata": {
            "tags": []
          },
          "execution_count": 32
        }
      ]
    },
    {
      "cell_type": "markdown",
      "metadata": {
        "id": "YKnl5T561Ewt"
      },
      "source": [
        "Agora, veremos se o nosso modelo conseguira prever quais sao os tipos dos vinhos impressos anteriormente.\n"
      ]
    },
    {
      "cell_type": "code",
      "metadata": {
        "id": "IDYekLOt1V7d"
      },
      "source": [
        "previsoes = modelo.predict(x_teste[200:203])"
      ],
      "execution_count": null,
      "outputs": []
    },
    {
      "cell_type": "code",
      "metadata": {
        "id": "1yWoO4Ws1h_j",
        "colab": {
          "base_uri": "https://localhost:8080/"
        },
        "outputId": "2b59a19d-6278-41b8-d5b7-122e68f23145"
      },
      "source": [
        "previsoes"
      ],
      "execution_count": null,
      "outputs": [
        {
          "output_type": "execute_result",
          "data": {
            "text/plain": [
              "array([0, 1, 1])"
            ]
          },
          "metadata": {
            "tags": []
          },
          "execution_count": 34
        }
      ]
    }
  ]
}